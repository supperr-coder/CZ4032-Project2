{
 "cells": [
  {
   "cell_type": "code",
   "execution_count": 71,
   "metadata": {},
   "outputs": [],
   "source": [
    "import pandas as pd\n",
    "from apriori import Apriori\n",
    "import statistics\n",
    "import numpy as np\n",
    "from tqdm import tqdm\n",
    "import matplotlib.pyplot as plt"
   ]
  },
  {
   "cell_type": "code",
   "execution_count": 34,
   "metadata": {},
   "outputs": [],
   "source": [
    "original_store_data = pd.read_csv(\"../Dataset/SampleSuperstore.csv\")"
   ]
  },
  {
   "cell_type": "code",
   "execution_count": 35,
   "metadata": {},
   "outputs": [
    {
     "name": "stdout",
     "output_type": "stream",
     "text": [
      "(9994, 13)\n"
     ]
    },
    {
     "data": {
      "text/html": [
       "<div>\n",
       "<style scoped>\n",
       "    .dataframe tbody tr th:only-of-type {\n",
       "        vertical-align: middle;\n",
       "    }\n",
       "\n",
       "    .dataframe tbody tr th {\n",
       "        vertical-align: top;\n",
       "    }\n",
       "\n",
       "    .dataframe thead th {\n",
       "        text-align: right;\n",
       "    }\n",
       "</style>\n",
       "<table border=\"1\" class=\"dataframe\">\n",
       "  <thead>\n",
       "    <tr style=\"text-align: right;\">\n",
       "      <th></th>\n",
       "      <th>Ship Mode</th>\n",
       "      <th>Segment</th>\n",
       "      <th>Country</th>\n",
       "      <th>City</th>\n",
       "      <th>State</th>\n",
       "      <th>Postal Code</th>\n",
       "      <th>Region</th>\n",
       "      <th>Category</th>\n",
       "      <th>Sub-Category</th>\n",
       "      <th>Sales</th>\n",
       "      <th>Quantity</th>\n",
       "      <th>Discount</th>\n",
       "      <th>Profit</th>\n",
       "    </tr>\n",
       "  </thead>\n",
       "  <tbody>\n",
       "    <tr>\n",
       "      <th>0</th>\n",
       "      <td>Second Class</td>\n",
       "      <td>Consumer</td>\n",
       "      <td>United States</td>\n",
       "      <td>Henderson</td>\n",
       "      <td>Kentucky</td>\n",
       "      <td>42420</td>\n",
       "      <td>South</td>\n",
       "      <td>Furniture</td>\n",
       "      <td>Bookcases</td>\n",
       "      <td>261.9600</td>\n",
       "      <td>2</td>\n",
       "      <td>0.00</td>\n",
       "      <td>41.9136</td>\n",
       "    </tr>\n",
       "    <tr>\n",
       "      <th>1</th>\n",
       "      <td>Second Class</td>\n",
       "      <td>Consumer</td>\n",
       "      <td>United States</td>\n",
       "      <td>Henderson</td>\n",
       "      <td>Kentucky</td>\n",
       "      <td>42420</td>\n",
       "      <td>South</td>\n",
       "      <td>Furniture</td>\n",
       "      <td>Chairs</td>\n",
       "      <td>731.9400</td>\n",
       "      <td>3</td>\n",
       "      <td>0.00</td>\n",
       "      <td>219.5820</td>\n",
       "    </tr>\n",
       "    <tr>\n",
       "      <th>2</th>\n",
       "      <td>Second Class</td>\n",
       "      <td>Corporate</td>\n",
       "      <td>United States</td>\n",
       "      <td>Los Angeles</td>\n",
       "      <td>California</td>\n",
       "      <td>90036</td>\n",
       "      <td>West</td>\n",
       "      <td>Office Supplies</td>\n",
       "      <td>Labels</td>\n",
       "      <td>14.6200</td>\n",
       "      <td>2</td>\n",
       "      <td>0.00</td>\n",
       "      <td>6.8714</td>\n",
       "    </tr>\n",
       "    <tr>\n",
       "      <th>3</th>\n",
       "      <td>Standard Class</td>\n",
       "      <td>Consumer</td>\n",
       "      <td>United States</td>\n",
       "      <td>Fort Lauderdale</td>\n",
       "      <td>Florida</td>\n",
       "      <td>33311</td>\n",
       "      <td>South</td>\n",
       "      <td>Furniture</td>\n",
       "      <td>Tables</td>\n",
       "      <td>957.5775</td>\n",
       "      <td>5</td>\n",
       "      <td>0.45</td>\n",
       "      <td>-383.0310</td>\n",
       "    </tr>\n",
       "    <tr>\n",
       "      <th>4</th>\n",
       "      <td>Standard Class</td>\n",
       "      <td>Consumer</td>\n",
       "      <td>United States</td>\n",
       "      <td>Fort Lauderdale</td>\n",
       "      <td>Florida</td>\n",
       "      <td>33311</td>\n",
       "      <td>South</td>\n",
       "      <td>Office Supplies</td>\n",
       "      <td>Storage</td>\n",
       "      <td>22.3680</td>\n",
       "      <td>2</td>\n",
       "      <td>0.20</td>\n",
       "      <td>2.5164</td>\n",
       "    </tr>\n",
       "  </tbody>\n",
       "</table>\n",
       "</div>"
      ],
      "text/plain": [
       "        Ship Mode    Segment        Country             City       State  \\\n",
       "0    Second Class   Consumer  United States        Henderson    Kentucky   \n",
       "1    Second Class   Consumer  United States        Henderson    Kentucky   \n",
       "2    Second Class  Corporate  United States      Los Angeles  California   \n",
       "3  Standard Class   Consumer  United States  Fort Lauderdale     Florida   \n",
       "4  Standard Class   Consumer  United States  Fort Lauderdale     Florida   \n",
       "\n",
       "   Postal Code Region         Category Sub-Category     Sales  Quantity  \\\n",
       "0        42420  South        Furniture    Bookcases  261.9600         2   \n",
       "1        42420  South        Furniture       Chairs  731.9400         3   \n",
       "2        90036   West  Office Supplies       Labels   14.6200         2   \n",
       "3        33311  South        Furniture       Tables  957.5775         5   \n",
       "4        33311  South  Office Supplies      Storage   22.3680         2   \n",
       "\n",
       "   Discount    Profit  \n",
       "0      0.00   41.9136  \n",
       "1      0.00  219.5820  \n",
       "2      0.00    6.8714  \n",
       "3      0.45 -383.0310  \n",
       "4      0.20    2.5164  "
      ]
     },
     "execution_count": 35,
     "metadata": {},
     "output_type": "execute_result"
    }
   ],
   "source": [
    "print(original_store_data.shape)\n",
    "original_store_data.head()"
   ]
  },
  {
   "cell_type": "code",
   "execution_count": 4,
   "metadata": {},
   "outputs": [
    {
     "name": "stdout",
     "output_type": "stream",
     "text": [
      "['Second Class' 'Standard Class' 'First Class' 'Same Day']\n",
      "['Consumer' 'Corporate' 'Home Office']\n",
      "['United States']\n",
      "['Furniture' 'Office Supplies' 'Technology']\n",
      "['Bookcases' 'Chairs' 'Labels' 'Tables' 'Storage' 'Furnishings' 'Art'\n",
      " 'Phones' 'Binders' 'Appliances' 'Paper' 'Accessories' 'Envelopes'\n",
      " 'Fasteners' 'Supplies' 'Machines' 'Copiers']\n"
     ]
    }
   ],
   "source": [
    "print(original_store_data['Ship Mode'].unique())\n",
    "print(original_store_data['Segment'].unique())\n",
    "print(original_store_data['Country'].unique())\n",
    "print(original_store_data['Category'].unique())\n",
    "print(original_store_data['Sub-Category'].unique())"
   ]
  },
  {
   "cell_type": "code",
   "execution_count": 5,
   "metadata": {},
   "outputs": [
    {
     "name": "stdout",
     "output_type": "stream",
     "text": [
      "The allowed values for a DataFrame are True, False, 0, 1. Found value Second Class\n"
     ]
    }
   ],
   "source": [
    "algorithm = Apriori()\n",
    "try:\n",
    "    algorithm.valid_input_check(store_data)\n",
    "except:\n",
    "    print(\"The allowed values for a DataFrame are True, False, 0, 1. Found value Second Class\")"
   ]
  },
  {
   "cell_type": "markdown",
   "metadata": {},
   "source": [
    "#### Changing to a suitable dataframe"
   ]
  },
  {
   "cell_type": "code",
   "execution_count": 6,
   "metadata": {},
   "outputs": [],
   "source": [
    "store_data = original_store_data[['Postal Code', 'Sub-Category', 'Quantity']]\n",
    "store_data = store_data.groupby(['Postal Code', 'Sub-Category']).sum()\n",
    "# Convert quantities to 0/1\n",
    "store_data['Quantity'] =  (store_data['Quantity']>0).astype(int)\n",
    "# pivot table and convert it to sparse data\n",
    "pivoted_store_data = store_data.pivot_table(index='Postal Code', columns='Sub-Category', values='Quantity', fill_value=0)\n",
    "sparse_store_data = pivoted_store_data.astype(pd.SparseDtype(int, fill_value=0))"
   ]
  },
  {
   "cell_type": "code",
   "execution_count": 36,
   "metadata": {},
   "outputs": [
    {
     "name": "stdout",
     "output_type": "stream",
     "text": [
      "(631, 17)\n"
     ]
    },
    {
     "data": {
      "text/html": [
       "<div>\n",
       "<style scoped>\n",
       "    .dataframe tbody tr th:only-of-type {\n",
       "        vertical-align: middle;\n",
       "    }\n",
       "\n",
       "    .dataframe tbody tr th {\n",
       "        vertical-align: top;\n",
       "    }\n",
       "\n",
       "    .dataframe thead th {\n",
       "        text-align: right;\n",
       "    }\n",
       "</style>\n",
       "<table border=\"1\" class=\"dataframe\">\n",
       "  <thead>\n",
       "    <tr style=\"text-align: right;\">\n",
       "      <th>Sub-Category</th>\n",
       "      <th>Accessories</th>\n",
       "      <th>Appliances</th>\n",
       "      <th>Art</th>\n",
       "      <th>Binders</th>\n",
       "      <th>Bookcases</th>\n",
       "      <th>Chairs</th>\n",
       "      <th>Copiers</th>\n",
       "      <th>Envelopes</th>\n",
       "      <th>Fasteners</th>\n",
       "      <th>Furnishings</th>\n",
       "      <th>Labels</th>\n",
       "      <th>Machines</th>\n",
       "      <th>Paper</th>\n",
       "      <th>Phones</th>\n",
       "      <th>Storage</th>\n",
       "      <th>Supplies</th>\n",
       "      <th>Tables</th>\n",
       "    </tr>\n",
       "    <tr>\n",
       "      <th>Postal Code</th>\n",
       "      <th></th>\n",
       "      <th></th>\n",
       "      <th></th>\n",
       "      <th></th>\n",
       "      <th></th>\n",
       "      <th></th>\n",
       "      <th></th>\n",
       "      <th></th>\n",
       "      <th></th>\n",
       "      <th></th>\n",
       "      <th></th>\n",
       "      <th></th>\n",
       "      <th></th>\n",
       "      <th></th>\n",
       "      <th></th>\n",
       "      <th></th>\n",
       "      <th></th>\n",
       "    </tr>\n",
       "  </thead>\n",
       "  <tbody>\n",
       "    <tr>\n",
       "      <th>1040</th>\n",
       "      <td>0</td>\n",
       "      <td>0</td>\n",
       "      <td>0</td>\n",
       "      <td>0</td>\n",
       "      <td>1</td>\n",
       "      <td>0</td>\n",
       "      <td>0</td>\n",
       "      <td>0</td>\n",
       "      <td>0</td>\n",
       "      <td>0</td>\n",
       "      <td>0</td>\n",
       "      <td>0</td>\n",
       "      <td>0</td>\n",
       "      <td>0</td>\n",
       "      <td>0</td>\n",
       "      <td>0</td>\n",
       "      <td>0</td>\n",
       "    </tr>\n",
       "    <tr>\n",
       "      <th>1453</th>\n",
       "      <td>0</td>\n",
       "      <td>0</td>\n",
       "      <td>0</td>\n",
       "      <td>1</td>\n",
       "      <td>0</td>\n",
       "      <td>0</td>\n",
       "      <td>0</td>\n",
       "      <td>0</td>\n",
       "      <td>0</td>\n",
       "      <td>0</td>\n",
       "      <td>1</td>\n",
       "      <td>0</td>\n",
       "      <td>1</td>\n",
       "      <td>0</td>\n",
       "      <td>1</td>\n",
       "      <td>0</td>\n",
       "      <td>0</td>\n",
       "    </tr>\n",
       "    <tr>\n",
       "      <th>1752</th>\n",
       "      <td>0</td>\n",
       "      <td>0</td>\n",
       "      <td>0</td>\n",
       "      <td>0</td>\n",
       "      <td>0</td>\n",
       "      <td>0</td>\n",
       "      <td>0</td>\n",
       "      <td>0</td>\n",
       "      <td>0</td>\n",
       "      <td>1</td>\n",
       "      <td>0</td>\n",
       "      <td>0</td>\n",
       "      <td>0</td>\n",
       "      <td>0</td>\n",
       "      <td>0</td>\n",
       "      <td>0</td>\n",
       "      <td>0</td>\n",
       "    </tr>\n",
       "    <tr>\n",
       "      <th>1810</th>\n",
       "      <td>0</td>\n",
       "      <td>0</td>\n",
       "      <td>0</td>\n",
       "      <td>1</td>\n",
       "      <td>0</td>\n",
       "      <td>1</td>\n",
       "      <td>0</td>\n",
       "      <td>0</td>\n",
       "      <td>0</td>\n",
       "      <td>0</td>\n",
       "      <td>0</td>\n",
       "      <td>0</td>\n",
       "      <td>1</td>\n",
       "      <td>0</td>\n",
       "      <td>1</td>\n",
       "      <td>0</td>\n",
       "      <td>0</td>\n",
       "    </tr>\n",
       "    <tr>\n",
       "      <th>1841</th>\n",
       "      <td>0</td>\n",
       "      <td>1</td>\n",
       "      <td>1</td>\n",
       "      <td>1</td>\n",
       "      <td>0</td>\n",
       "      <td>1</td>\n",
       "      <td>1</td>\n",
       "      <td>0</td>\n",
       "      <td>1</td>\n",
       "      <td>1</td>\n",
       "      <td>1</td>\n",
       "      <td>0</td>\n",
       "      <td>1</td>\n",
       "      <td>1</td>\n",
       "      <td>1</td>\n",
       "      <td>1</td>\n",
       "      <td>1</td>\n",
       "    </tr>\n",
       "  </tbody>\n",
       "</table>\n",
       "</div>"
      ],
      "text/plain": [
       "Sub-Category  Accessories  Appliances  Art  Binders  Bookcases  Chairs  \\\n",
       "Postal Code                                                              \n",
       "1040                    0           0    0        0          1       0   \n",
       "1453                    0           0    0        1          0       0   \n",
       "1752                    0           0    0        0          0       0   \n",
       "1810                    0           0    0        1          0       1   \n",
       "1841                    0           1    1        1          0       1   \n",
       "\n",
       "Sub-Category  Copiers  Envelopes  Fasteners  Furnishings  Labels  Machines  \\\n",
       "Postal Code                                                                  \n",
       "1040                0          0          0            0       0         0   \n",
       "1453                0          0          0            0       1         0   \n",
       "1752                0          0          0            1       0         0   \n",
       "1810                0          0          0            0       0         0   \n",
       "1841                1          0          1            1       1         0   \n",
       "\n",
       "Sub-Category  Paper  Phones  Storage  Supplies  Tables  \n",
       "Postal Code                                             \n",
       "1040              0       0        0         0       0  \n",
       "1453              1       0        1         0       0  \n",
       "1752              0       0        0         0       0  \n",
       "1810              1       0        1         0       0  \n",
       "1841              1       1        1         1       1  "
      ]
     },
     "execution_count": 36,
     "metadata": {},
     "output_type": "execute_result"
    }
   ],
   "source": [
    "print(sparse_store_data.shape)\n",
    "sparse_store_data.head()"
   ]
  },
  {
   "cell_type": "code",
   "execution_count": 8,
   "metadata": {},
   "outputs": [],
   "source": [
    "try:\n",
    "    algorithm.valid_input_check(sparse_store_data)\n",
    "except:\n",
    "    print(\"The allowed values for a DataFrame are True, False, 0, 1. Found value Second Class\")"
   ]
  },
  {
   "cell_type": "markdown",
   "metadata": {},
   "source": [
    "## Apriori Algorithm and extract frequent items as features "
   ]
  },
  {
   "cell_type": "code",
   "execution_count": 9,
   "metadata": {},
   "outputs": [
    {
     "name": "stdout",
     "output_type": "stream",
     "text": [
      "Processing 17 combinations | Sampling itemset size 176531\n"
     ]
    }
   ],
   "source": [
    "# check for the mean occurence for each combination \n",
    "item_count = algorithm.apriori(df=sparse_store_data, use_colnames=True, verbose=1, count=True, min_support=0.001)"
   ]
  },
  {
   "cell_type": "code",
   "execution_count": 10,
   "metadata": {},
   "outputs": [
    {
     "name": "stdout",
     "output_type": "stream",
     "text": [
      "Total number of combinations of all itemsets: 131071\n",
      "Average Occurence of each combination: 26.62\n",
      "Median Occurence of each combination: 23.0\n",
      "75 Percentile Occurence of each combination: 74.0\n"
     ]
    }
   ],
   "source": [
    "print(f\"Total number of combinations of all itemsets: {len(item_count)}\")\n",
    "average_occurence = round(sum(item_count['count'])/len(item_count), 2)\n",
    "median_occurence = statistics.median(item_count['count'])\n",
    "percentile_99 = np.percentile(item_count['count'], 99)\n",
    "print(f\"Average Occurence of each combination: {average_occurence}\")\n",
    "print(f\"Median Occurence of each combination: {median_occurence}\")\n",
    "print(f\"75 Percentile Occurence of each combination: {percentile_99}\")"
   ]
  },
  {
   "cell_type": "code",
   "execution_count": 11,
   "metadata": {},
   "outputs": [
    {
     "data": {
      "text/plain": [
       "1256"
      ]
     },
     "execution_count": 11,
     "metadata": {},
     "output_type": "execute_result"
    }
   ],
   "source": [
    "# We define frequent item as those that occur more than the average occurence\n",
    "frequent_items = list(item_count[item_count['count']>percentile_99]['itemsets'])\n",
    "len(frequent_items)"
   ]
  },
  {
   "cell_type": "code",
   "execution_count": 12,
   "metadata": {},
   "outputs": [],
   "source": [
    "new_col = frequent_items"
   ]
  },
  {
   "cell_type": "markdown",
   "metadata": {},
   "source": [
    "### Data Preprocessing for Clustering Users"
   ]
  },
  {
   "cell_type": "code",
   "execution_count": 13,
   "metadata": {},
   "outputs": [
    {
     "name": "stderr",
     "output_type": "stream",
     "text": [
      "100%|██████████| 1256/1256 [10:30<00:00,  1.99it/s]\n"
     ]
    }
   ],
   "source": [
    "new_df = pd.DataFrame(index=sparse_store_data.index)\n",
    "new_df[new_col] = 1\n",
    "for itemset in tqdm(new_col):\n",
    "    for i in sparse_store_data.index:\n",
    "        for item in itemset:\n",
    "            if sparse_store_data.loc[i][item] == 0:\n",
    "                new_df.at[i, itemset] = 0\n",
    "                break"
   ]
  },
  {
   "cell_type": "code",
   "execution_count": 51,
   "metadata": {},
   "outputs": [],
   "source": [
    "# Adding Label to the new table with frequent items as features\n",
    "final_df = new_df.merge(original_store_data[['Postal Code', 'Segment']], how='left', on='Postal Code').set_index('Postal Code')\n",
    "\"\"\"\n",
    "Combining label if multiple labels are found for the same Postal Code\n",
    "eg: Postal 123 contains different transactions(rows) with different 'Segment' --> consumer and corporate, \n",
    "    it will be combined to one row with 'Segment' --> consumer, corporate\n",
    "\"\"\"\n",
    "final_df = final_df.groupby('Postal Code').agg({\n",
    "    **{col: 'max' for col in final_df.columns if col not in ['Postal Code', 'Segment']},\n",
    "    'Segment': lambda x: ', '.join(sorted(set(x)))\n",
    "}).reset_index()\n",
    "final_df.rename(columns={\"Segment\": \"Label\"}, inplace=True)"
   ]
  },
  {
   "cell_type": "code",
   "execution_count": 53,
   "metadata": {},
   "outputs": [],
   "source": [
    "# Label Transform the Labels\n",
    "from sklearn.preprocessing import LabelEncoder\n",
    "le = LabelEncoder()\n",
    "final_df['Label'] = le.fit_transform(final_df['Label'])"
   ]
  },
  {
   "cell_type": "code",
   "execution_count": 88,
   "metadata": {},
   "outputs": [
    {
     "name": "stdout",
     "output_type": "stream",
     "text": [
      "(631, 1257)\n"
     ]
    },
    {
     "data": {
      "text/html": [
       "<div>\n",
       "<style scoped>\n",
       "    .dataframe tbody tr th:only-of-type {\n",
       "        vertical-align: middle;\n",
       "    }\n",
       "\n",
       "    .dataframe tbody tr th {\n",
       "        vertical-align: top;\n",
       "    }\n",
       "\n",
       "    .dataframe thead th {\n",
       "        text-align: right;\n",
       "    }\n",
       "</style>\n",
       "<table border=\"1\" class=\"dataframe\">\n",
       "  <thead>\n",
       "    <tr style=\"text-align: right;\">\n",
       "      <th></th>\n",
       "      <th>(Accessories)</th>\n",
       "      <th>(Appliances)</th>\n",
       "      <th>(Art)</th>\n",
       "      <th>(Binders)</th>\n",
       "      <th>(Bookcases)</th>\n",
       "      <th>(Chairs)</th>\n",
       "      <th>(Envelopes)</th>\n",
       "      <th>(Fasteners)</th>\n",
       "      <th>(Furnishings)</th>\n",
       "      <th>(Labels)</th>\n",
       "      <th>...</th>\n",
       "      <th>(Storage, Paper, Chairs, Furnishings, Art, Phones, Binders)</th>\n",
       "      <th>(Tables, Storage, Paper, Furnishings, Art, Phones, Binders)</th>\n",
       "      <th>(Tables, Storage, Paper, Chairs, Furnishings, Phones, Binders)</th>\n",
       "      <th>(Paper, Chairs, Phones, Furnishings, Art, Accessories, Appliances, Binders)</th>\n",
       "      <th>(Storage, Paper, Phones, Furnishings, Art, Accessories, Appliances, Binders)</th>\n",
       "      <th>(Storage, Paper, Chairs, Phones, Furnishings, Accessories, Appliances, Binders)</th>\n",
       "      <th>(Storage, Paper, Chairs, Furnishings, Art, Accessories, Phones, Binders)</th>\n",
       "      <th>(Tables, Storage, Paper, Furnishings, Art, Accessories, Phones, Binders)</th>\n",
       "      <th>(Storage, Paper, Chairs, Phones, Furnishings, Art, Appliances, Binders)</th>\n",
       "      <th>Label</th>\n",
       "    </tr>\n",
       "    <tr>\n",
       "      <th>Postal Code</th>\n",
       "      <th></th>\n",
       "      <th></th>\n",
       "      <th></th>\n",
       "      <th></th>\n",
       "      <th></th>\n",
       "      <th></th>\n",
       "      <th></th>\n",
       "      <th></th>\n",
       "      <th></th>\n",
       "      <th></th>\n",
       "      <th></th>\n",
       "      <th></th>\n",
       "      <th></th>\n",
       "      <th></th>\n",
       "      <th></th>\n",
       "      <th></th>\n",
       "      <th></th>\n",
       "      <th></th>\n",
       "      <th></th>\n",
       "      <th></th>\n",
       "      <th></th>\n",
       "    </tr>\n",
       "  </thead>\n",
       "  <tbody>\n",
       "    <tr>\n",
       "      <th>1040</th>\n",
       "      <td>0</td>\n",
       "      <td>0</td>\n",
       "      <td>0</td>\n",
       "      <td>0</td>\n",
       "      <td>1</td>\n",
       "      <td>0</td>\n",
       "      <td>0</td>\n",
       "      <td>0</td>\n",
       "      <td>0</td>\n",
       "      <td>0</td>\n",
       "      <td>...</td>\n",
       "      <td>0</td>\n",
       "      <td>0</td>\n",
       "      <td>0</td>\n",
       "      <td>0</td>\n",
       "      <td>0</td>\n",
       "      <td>0</td>\n",
       "      <td>0</td>\n",
       "      <td>0</td>\n",
       "      <td>0</td>\n",
       "      <td>6</td>\n",
       "    </tr>\n",
       "    <tr>\n",
       "      <th>1453</th>\n",
       "      <td>0</td>\n",
       "      <td>0</td>\n",
       "      <td>0</td>\n",
       "      <td>1</td>\n",
       "      <td>0</td>\n",
       "      <td>0</td>\n",
       "      <td>0</td>\n",
       "      <td>0</td>\n",
       "      <td>0</td>\n",
       "      <td>1</td>\n",
       "      <td>...</td>\n",
       "      <td>0</td>\n",
       "      <td>0</td>\n",
       "      <td>0</td>\n",
       "      <td>0</td>\n",
       "      <td>0</td>\n",
       "      <td>0</td>\n",
       "      <td>0</td>\n",
       "      <td>0</td>\n",
       "      <td>0</td>\n",
       "      <td>1</td>\n",
       "    </tr>\n",
       "    <tr>\n",
       "      <th>1752</th>\n",
       "      <td>0</td>\n",
       "      <td>0</td>\n",
       "      <td>0</td>\n",
       "      <td>0</td>\n",
       "      <td>0</td>\n",
       "      <td>0</td>\n",
       "      <td>0</td>\n",
       "      <td>0</td>\n",
       "      <td>1</td>\n",
       "      <td>0</td>\n",
       "      <td>...</td>\n",
       "      <td>0</td>\n",
       "      <td>0</td>\n",
       "      <td>0</td>\n",
       "      <td>0</td>\n",
       "      <td>0</td>\n",
       "      <td>0</td>\n",
       "      <td>0</td>\n",
       "      <td>0</td>\n",
       "      <td>0</td>\n",
       "      <td>0</td>\n",
       "    </tr>\n",
       "    <tr>\n",
       "      <th>1810</th>\n",
       "      <td>0</td>\n",
       "      <td>0</td>\n",
       "      <td>0</td>\n",
       "      <td>1</td>\n",
       "      <td>0</td>\n",
       "      <td>1</td>\n",
       "      <td>0</td>\n",
       "      <td>0</td>\n",
       "      <td>0</td>\n",
       "      <td>0</td>\n",
       "      <td>...</td>\n",
       "      <td>0</td>\n",
       "      <td>0</td>\n",
       "      <td>0</td>\n",
       "      <td>0</td>\n",
       "      <td>0</td>\n",
       "      <td>0</td>\n",
       "      <td>0</td>\n",
       "      <td>0</td>\n",
       "      <td>0</td>\n",
       "      <td>0</td>\n",
       "    </tr>\n",
       "    <tr>\n",
       "      <th>1841</th>\n",
       "      <td>0</td>\n",
       "      <td>1</td>\n",
       "      <td>1</td>\n",
       "      <td>1</td>\n",
       "      <td>0</td>\n",
       "      <td>1</td>\n",
       "      <td>0</td>\n",
       "      <td>1</td>\n",
       "      <td>1</td>\n",
       "      <td>1</td>\n",
       "      <td>...</td>\n",
       "      <td>1</td>\n",
       "      <td>1</td>\n",
       "      <td>1</td>\n",
       "      <td>0</td>\n",
       "      <td>0</td>\n",
       "      <td>0</td>\n",
       "      <td>0</td>\n",
       "      <td>0</td>\n",
       "      <td>1</td>\n",
       "      <td>2</td>\n",
       "    </tr>\n",
       "  </tbody>\n",
       "</table>\n",
       "<p>5 rows × 1257 columns</p>\n",
       "</div>"
      ],
      "text/plain": [
       "             (Accessories)  (Appliances)  (Art)  (Binders)  (Bookcases)  \\\n",
       "Postal Code                                                               \n",
       "1040                     0             0      0          0            1   \n",
       "1453                     0             0      0          1            0   \n",
       "1752                     0             0      0          0            0   \n",
       "1810                     0             0      0          1            0   \n",
       "1841                     0             1      1          1            0   \n",
       "\n",
       "             (Chairs)  (Envelopes)  (Fasteners)  (Furnishings)  (Labels)  ...  \\\n",
       "Postal Code                                                               ...   \n",
       "1040                0            0            0              0         0  ...   \n",
       "1453                0            0            0              0         1  ...   \n",
       "1752                0            0            0              1         0  ...   \n",
       "1810                1            0            0              0         0  ...   \n",
       "1841                1            0            1              1         1  ...   \n",
       "\n",
       "             (Storage, Paper, Chairs, Furnishings, Art, Phones, Binders)  \\\n",
       "Postal Code                                                                \n",
       "1040                                                         0             \n",
       "1453                                                         0             \n",
       "1752                                                         0             \n",
       "1810                                                         0             \n",
       "1841                                                         1             \n",
       "\n",
       "             (Tables, Storage, Paper, Furnishings, Art, Phones, Binders)  \\\n",
       "Postal Code                                                                \n",
       "1040                                                         0             \n",
       "1453                                                         0             \n",
       "1752                                                         0             \n",
       "1810                                                         0             \n",
       "1841                                                         1             \n",
       "\n",
       "             (Tables, Storage, Paper, Chairs, Furnishings, Phones, Binders)  \\\n",
       "Postal Code                                                                   \n",
       "1040                                                         0                \n",
       "1453                                                         0                \n",
       "1752                                                         0                \n",
       "1810                                                         0                \n",
       "1841                                                         1                \n",
       "\n",
       "             (Paper, Chairs, Phones, Furnishings, Art, Accessories, Appliances, Binders)  \\\n",
       "Postal Code                                                                                \n",
       "1040                                                         0                             \n",
       "1453                                                         0                             \n",
       "1752                                                         0                             \n",
       "1810                                                         0                             \n",
       "1841                                                         0                             \n",
       "\n",
       "             (Storage, Paper, Phones, Furnishings, Art, Accessories, Appliances, Binders)  \\\n",
       "Postal Code                                                                                 \n",
       "1040                                                         0                              \n",
       "1453                                                         0                              \n",
       "1752                                                         0                              \n",
       "1810                                                         0                              \n",
       "1841                                                         0                              \n",
       "\n",
       "             (Storage, Paper, Chairs, Phones, Furnishings, Accessories, Appliances, Binders)  \\\n",
       "Postal Code                                                                                    \n",
       "1040                                                         0                                 \n",
       "1453                                                         0                                 \n",
       "1752                                                         0                                 \n",
       "1810                                                         0                                 \n",
       "1841                                                         0                                 \n",
       "\n",
       "             (Storage, Paper, Chairs, Furnishings, Art, Accessories, Phones, Binders)  \\\n",
       "Postal Code                                                                             \n",
       "1040                                                         0                          \n",
       "1453                                                         0                          \n",
       "1752                                                         0                          \n",
       "1810                                                         0                          \n",
       "1841                                                         0                          \n",
       "\n",
       "             (Tables, Storage, Paper, Furnishings, Art, Accessories, Phones, Binders)  \\\n",
       "Postal Code                                                                             \n",
       "1040                                                         0                          \n",
       "1453                                                         0                          \n",
       "1752                                                         0                          \n",
       "1810                                                         0                          \n",
       "1841                                                         0                          \n",
       "\n",
       "             (Storage, Paper, Chairs, Phones, Furnishings, Art, Appliances, Binders)  \\\n",
       "Postal Code                                                                            \n",
       "1040                                                         0                         \n",
       "1453                                                         0                         \n",
       "1752                                                         0                         \n",
       "1810                                                         0                         \n",
       "1841                                                         1                         \n",
       "\n",
       "             Label  \n",
       "Postal Code         \n",
       "1040             6  \n",
       "1453             1  \n",
       "1752             0  \n",
       "1810             0  \n",
       "1841             2  \n",
       "\n",
       "[5 rows x 1257 columns]"
      ]
     },
     "execution_count": 88,
     "metadata": {},
     "output_type": "execute_result"
    }
   ],
   "source": [
    "# final_df.to_csv(\"../Result/SuperStoreFrequentFeatures1.csv\")\n",
    "print(final_df.shape)\n",
    "final_df.head()"
   ]
  },
  {
   "cell_type": "markdown",
   "metadata": {},
   "source": [
    "### Data Preprocessing for Clustering Items"
   ]
  },
  {
   "cell_type": "code",
   "execution_count": 80,
   "metadata": {},
   "outputs": [
    {
     "name": "stderr",
     "output_type": "stream",
     "text": [
      "100%|██████████| 1256/1256 [00:00<00:00, 5749.86it/s]\n"
     ]
    }
   ],
   "source": [
    "new_df = pd.DataFrame(index=sparse_store_data.columns)\n",
    "new_df[new_col] = 1\n",
    "for itemset in tqdm(new_col):\n",
    "    for item in sparse_store_data.columns:\n",
    "        if item not in itemset:\n",
    "            new_df.at[item, itemset] = 0\n"
   ]
  },
  {
   "cell_type": "code",
   "execution_count": 85,
   "metadata": {},
   "outputs": [],
   "source": [
    "final_df2 = new_df.merge(original_store_data[['Sub-Category', 'Category']], how='left', on='Sub-Category').set_index('Sub-Category').drop_duplicates(keep='first')\n",
    "final_df2.rename(columns={\"Category\": \"Label\"}, inplace=True)\n",
    "\n",
    "le = LabelEncoder()\n",
    "final_df2['Label'] = le.fit_transform(final_df2['Label'])"
   ]
  },
  {
   "cell_type": "code",
   "execution_count": 89,
   "metadata": {},
   "outputs": [
    {
     "name": "stdout",
     "output_type": "stream",
     "text": [
      "(17, 1257)\n"
     ]
    },
    {
     "data": {
      "text/html": [
       "<div>\n",
       "<style scoped>\n",
       "    .dataframe tbody tr th:only-of-type {\n",
       "        vertical-align: middle;\n",
       "    }\n",
       "\n",
       "    .dataframe tbody tr th {\n",
       "        vertical-align: top;\n",
       "    }\n",
       "\n",
       "    .dataframe thead th {\n",
       "        text-align: right;\n",
       "    }\n",
       "</style>\n",
       "<table border=\"1\" class=\"dataframe\">\n",
       "  <thead>\n",
       "    <tr style=\"text-align: right;\">\n",
       "      <th></th>\n",
       "      <th>(Accessories)</th>\n",
       "      <th>(Appliances)</th>\n",
       "      <th>(Art)</th>\n",
       "      <th>(Binders)</th>\n",
       "      <th>(Bookcases)</th>\n",
       "      <th>(Chairs)</th>\n",
       "      <th>(Envelopes)</th>\n",
       "      <th>(Fasteners)</th>\n",
       "      <th>(Furnishings)</th>\n",
       "      <th>(Labels)</th>\n",
       "      <th>...</th>\n",
       "      <th>(Storage, Paper, Chairs, Furnishings, Art, Phones, Binders)</th>\n",
       "      <th>(Tables, Storage, Paper, Furnishings, Art, Phones, Binders)</th>\n",
       "      <th>(Tables, Storage, Paper, Chairs, Furnishings, Phones, Binders)</th>\n",
       "      <th>(Paper, Chairs, Phones, Furnishings, Art, Accessories, Appliances, Binders)</th>\n",
       "      <th>(Storage, Paper, Phones, Furnishings, Art, Accessories, Appliances, Binders)</th>\n",
       "      <th>(Storage, Paper, Chairs, Phones, Furnishings, Accessories, Appliances, Binders)</th>\n",
       "      <th>(Storage, Paper, Chairs, Furnishings, Art, Accessories, Phones, Binders)</th>\n",
       "      <th>(Tables, Storage, Paper, Furnishings, Art, Accessories, Phones, Binders)</th>\n",
       "      <th>(Storage, Paper, Chairs, Phones, Furnishings, Art, Appliances, Binders)</th>\n",
       "      <th>Label</th>\n",
       "    </tr>\n",
       "    <tr>\n",
       "      <th>Sub-Category</th>\n",
       "      <th></th>\n",
       "      <th></th>\n",
       "      <th></th>\n",
       "      <th></th>\n",
       "      <th></th>\n",
       "      <th></th>\n",
       "      <th></th>\n",
       "      <th></th>\n",
       "      <th></th>\n",
       "      <th></th>\n",
       "      <th></th>\n",
       "      <th></th>\n",
       "      <th></th>\n",
       "      <th></th>\n",
       "      <th></th>\n",
       "      <th></th>\n",
       "      <th></th>\n",
       "      <th></th>\n",
       "      <th></th>\n",
       "      <th></th>\n",
       "      <th></th>\n",
       "    </tr>\n",
       "  </thead>\n",
       "  <tbody>\n",
       "    <tr>\n",
       "      <th>Accessories</th>\n",
       "      <td>1</td>\n",
       "      <td>0</td>\n",
       "      <td>0</td>\n",
       "      <td>0</td>\n",
       "      <td>0</td>\n",
       "      <td>0</td>\n",
       "      <td>0</td>\n",
       "      <td>0</td>\n",
       "      <td>0</td>\n",
       "      <td>0</td>\n",
       "      <td>...</td>\n",
       "      <td>0</td>\n",
       "      <td>0</td>\n",
       "      <td>0</td>\n",
       "      <td>1</td>\n",
       "      <td>1</td>\n",
       "      <td>1</td>\n",
       "      <td>1</td>\n",
       "      <td>1</td>\n",
       "      <td>0</td>\n",
       "      <td>2</td>\n",
       "    </tr>\n",
       "    <tr>\n",
       "      <th>Appliances</th>\n",
       "      <td>0</td>\n",
       "      <td>1</td>\n",
       "      <td>0</td>\n",
       "      <td>0</td>\n",
       "      <td>0</td>\n",
       "      <td>0</td>\n",
       "      <td>0</td>\n",
       "      <td>0</td>\n",
       "      <td>0</td>\n",
       "      <td>0</td>\n",
       "      <td>...</td>\n",
       "      <td>0</td>\n",
       "      <td>0</td>\n",
       "      <td>0</td>\n",
       "      <td>1</td>\n",
       "      <td>1</td>\n",
       "      <td>1</td>\n",
       "      <td>0</td>\n",
       "      <td>0</td>\n",
       "      <td>1</td>\n",
       "      <td>1</td>\n",
       "    </tr>\n",
       "    <tr>\n",
       "      <th>Art</th>\n",
       "      <td>0</td>\n",
       "      <td>0</td>\n",
       "      <td>1</td>\n",
       "      <td>0</td>\n",
       "      <td>0</td>\n",
       "      <td>0</td>\n",
       "      <td>0</td>\n",
       "      <td>0</td>\n",
       "      <td>0</td>\n",
       "      <td>0</td>\n",
       "      <td>...</td>\n",
       "      <td>1</td>\n",
       "      <td>1</td>\n",
       "      <td>0</td>\n",
       "      <td>1</td>\n",
       "      <td>1</td>\n",
       "      <td>0</td>\n",
       "      <td>1</td>\n",
       "      <td>1</td>\n",
       "      <td>1</td>\n",
       "      <td>1</td>\n",
       "    </tr>\n",
       "    <tr>\n",
       "      <th>Binders</th>\n",
       "      <td>0</td>\n",
       "      <td>0</td>\n",
       "      <td>0</td>\n",
       "      <td>1</td>\n",
       "      <td>0</td>\n",
       "      <td>0</td>\n",
       "      <td>0</td>\n",
       "      <td>0</td>\n",
       "      <td>0</td>\n",
       "      <td>0</td>\n",
       "      <td>...</td>\n",
       "      <td>1</td>\n",
       "      <td>1</td>\n",
       "      <td>1</td>\n",
       "      <td>1</td>\n",
       "      <td>1</td>\n",
       "      <td>1</td>\n",
       "      <td>1</td>\n",
       "      <td>1</td>\n",
       "      <td>1</td>\n",
       "      <td>1</td>\n",
       "    </tr>\n",
       "    <tr>\n",
       "      <th>Bookcases</th>\n",
       "      <td>0</td>\n",
       "      <td>0</td>\n",
       "      <td>0</td>\n",
       "      <td>0</td>\n",
       "      <td>1</td>\n",
       "      <td>0</td>\n",
       "      <td>0</td>\n",
       "      <td>0</td>\n",
       "      <td>0</td>\n",
       "      <td>0</td>\n",
       "      <td>...</td>\n",
       "      <td>0</td>\n",
       "      <td>0</td>\n",
       "      <td>0</td>\n",
       "      <td>0</td>\n",
       "      <td>0</td>\n",
       "      <td>0</td>\n",
       "      <td>0</td>\n",
       "      <td>0</td>\n",
       "      <td>0</td>\n",
       "      <td>0</td>\n",
       "    </tr>\n",
       "  </tbody>\n",
       "</table>\n",
       "<p>5 rows × 1257 columns</p>\n",
       "</div>"
      ],
      "text/plain": [
       "              (Accessories)  (Appliances)  (Art)  (Binders)  (Bookcases)  \\\n",
       "Sub-Category                                                               \n",
       "Accessories               1             0      0          0            0   \n",
       "Appliances                0             1      0          0            0   \n",
       "Art                       0             0      1          0            0   \n",
       "Binders                   0             0      0          1            0   \n",
       "Bookcases                 0             0      0          0            1   \n",
       "\n",
       "              (Chairs)  (Envelopes)  (Fasteners)  (Furnishings)  (Labels)  \\\n",
       "Sub-Category                                                                \n",
       "Accessories          0            0            0              0         0   \n",
       "Appliances           0            0            0              0         0   \n",
       "Art                  0            0            0              0         0   \n",
       "Binders              0            0            0              0         0   \n",
       "Bookcases            0            0            0              0         0   \n",
       "\n",
       "              ...  \\\n",
       "Sub-Category  ...   \n",
       "Accessories   ...   \n",
       "Appliances    ...   \n",
       "Art           ...   \n",
       "Binders       ...   \n",
       "Bookcases     ...   \n",
       "\n",
       "              (Storage, Paper, Chairs, Furnishings, Art, Phones, Binders)  \\\n",
       "Sub-Category                                                                \n",
       "Accessories                                                   0             \n",
       "Appliances                                                    0             \n",
       "Art                                                           1             \n",
       "Binders                                                       1             \n",
       "Bookcases                                                     0             \n",
       "\n",
       "              (Tables, Storage, Paper, Furnishings, Art, Phones, Binders)  \\\n",
       "Sub-Category                                                                \n",
       "Accessories                                                   0             \n",
       "Appliances                                                    0             \n",
       "Art                                                           1             \n",
       "Binders                                                       1             \n",
       "Bookcases                                                     0             \n",
       "\n",
       "              (Tables, Storage, Paper, Chairs, Furnishings, Phones, Binders)  \\\n",
       "Sub-Category                                                                   \n",
       "Accessories                                                   0                \n",
       "Appliances                                                    0                \n",
       "Art                                                           0                \n",
       "Binders                                                       1                \n",
       "Bookcases                                                     0                \n",
       "\n",
       "              (Paper, Chairs, Phones, Furnishings, Art, Accessories, Appliances, Binders)  \\\n",
       "Sub-Category                                                                                \n",
       "Accessories                                                   1                             \n",
       "Appliances                                                    1                             \n",
       "Art                                                           1                             \n",
       "Binders                                                       1                             \n",
       "Bookcases                                                     0                             \n",
       "\n",
       "              (Storage, Paper, Phones, Furnishings, Art, Accessories, Appliances, Binders)  \\\n",
       "Sub-Category                                                                                 \n",
       "Accessories                                                   1                              \n",
       "Appliances                                                    1                              \n",
       "Art                                                           1                              \n",
       "Binders                                                       1                              \n",
       "Bookcases                                                     0                              \n",
       "\n",
       "              (Storage, Paper, Chairs, Phones, Furnishings, Accessories, Appliances, Binders)  \\\n",
       "Sub-Category                                                                                    \n",
       "Accessories                                                   1                                 \n",
       "Appliances                                                    1                                 \n",
       "Art                                                           0                                 \n",
       "Binders                                                       1                                 \n",
       "Bookcases                                                     0                                 \n",
       "\n",
       "              (Storage, Paper, Chairs, Furnishings, Art, Accessories, Phones, Binders)  \\\n",
       "Sub-Category                                                                             \n",
       "Accessories                                                   1                          \n",
       "Appliances                                                    0                          \n",
       "Art                                                           1                          \n",
       "Binders                                                       1                          \n",
       "Bookcases                                                     0                          \n",
       "\n",
       "              (Tables, Storage, Paper, Furnishings, Art, Accessories, Phones, Binders)  \\\n",
       "Sub-Category                                                                             \n",
       "Accessories                                                   1                          \n",
       "Appliances                                                    0                          \n",
       "Art                                                           1                          \n",
       "Binders                                                       1                          \n",
       "Bookcases                                                     0                          \n",
       "\n",
       "              (Storage, Paper, Chairs, Phones, Furnishings, Art, Appliances, Binders)  \\\n",
       "Sub-Category                                                                            \n",
       "Accessories                                                   0                         \n",
       "Appliances                                                    1                         \n",
       "Art                                                           1                         \n",
       "Binders                                                       1                         \n",
       "Bookcases                                                     0                         \n",
       "\n",
       "              Label  \n",
       "Sub-Category         \n",
       "Accessories       2  \n",
       "Appliances        1  \n",
       "Art               1  \n",
       "Binders           1  \n",
       "Bookcases         0  \n",
       "\n",
       "[5 rows x 1257 columns]"
      ]
     },
     "execution_count": 89,
     "metadata": {},
     "output_type": "execute_result"
    }
   ],
   "source": [
    "# final_df2.to_csv(\"../Result/SuperStoreFrequentFeatures2.csv\")\n",
    "print(final_df2.shape)\n",
    "final_df2.head()"
   ]
  },
  {
   "cell_type": "markdown",
   "metadata": {},
   "source": [
    "## Clustering Different Users (based on postal code)"
   ]
  },
  {
   "cell_type": "markdown",
   "metadata": {},
   "source": [
    "### K Means Clustering (K=7)"
   ]
  },
  {
   "cell_type": "code",
   "execution_count": 103,
   "metadata": {},
   "outputs": [
    {
     "name": "stdout",
     "output_type": "stream",
     "text": [
      "Number of unique labels:  7\n"
     ]
    }
   ],
   "source": [
    "print(\"Number of unique labels: \", len(final_df['Label'].unique()))"
   ]
  },
  {
   "cell_type": "code",
   "execution_count": 104,
   "metadata": {},
   "outputs": [],
   "source": [
    "from sklearn.cluster import KMeans\n",
    "\n",
    "X = final_df.iloc[:, :-1]\n",
    "kmeans = KMeans(n_clusters=len(final_df['Label'].unique()), random_state=0, init='k-means++').fit(X)\n",
    "kmeans_results = kmeans.labels_"
   ]
  },
  {
   "cell_type": "code",
   "execution_count": 105,
   "metadata": {},
   "outputs": [
    {
     "name": "stdout",
     "output_type": "stream",
     "text": [
      "Silhouette Score: 0.5037051122002923\n",
      "Calinski Harabasz Score: 226.16801153703938\n",
      "Davies Bouldin Score: 1.7925466409131396\n",
      "Adjusted Rand Index: -0.03771071865334091\n"
     ]
    }
   ],
   "source": [
    "from sklearn.metrics import silhouette_score, calinski_harabasz_score, davies_bouldin_score, adjusted_rand_score\n",
    "\n",
    "print(f\"Silhouette Score: {silhouette_score(X, kmeans_results, metric='euclidean')}\")\n",
    "print(f\"Calinski Harabasz Score: {calinski_harabasz_score(X, kmeans_results)}\")\n",
    "print(f\"Davies Bouldin Score: {davies_bouldin_score(X, kmeans_results)}\")\n",
    "print(f\"Adjusted Rand Index: {adjusted_rand_score(final_df['Label'] , kmeans_results)}\")\n"
   ]
  },
  {
   "cell_type": "markdown",
   "metadata": {},
   "source": [
    "#### t-SNE"
   ]
  },
  {
   "cell_type": "code",
   "execution_count": 106,
   "metadata": {},
   "outputs": [
    {
     "data": {
      "text/plain": [
       "(631, 2)"
      ]
     },
     "execution_count": 106,
     "metadata": {},
     "output_type": "execute_result"
    }
   ],
   "source": [
    "from sklearn.manifold import TSNE\n",
    "\n",
    "X_embedded = TSNE(n_components=2, init='pca', perplexity=25).fit_transform(X)\n",
    "X_embedded = pd.DataFrame(X_embedded)\n",
    "X_embedded.shape"
   ]
  },
  {
   "cell_type": "code",
   "execution_count": 107,
   "metadata": {},
   "outputs": [
    {
     "data": {
      "image/png": "[encoded data removed]",
      "text/plain": [
       "<Figure size 1000x400 with 2 Axes>"
      ]
     },
     "metadata": {},
     "output_type": "display_data"
    }
   ],
   "source": [
    "# t-SNE does not result in clear clusters too\n",
    "\n",
    "fig, axes = plt.subplots(1, 2, figsize=(10, 4))\n",
    "axes[0].scatter(x=X_embedded.iloc[:, 0], y=X_embedded.iloc[:, 1], cmap='viridis')\n",
    "axes[0].set_xlabel(\"variable 1\")\n",
    "axes[0].set_ylabel(\"variable 2\")\n",
    "axes[1].scatter(x=X_embedded.iloc[:, 0], y=X_embedded.iloc[:, 1], c=final_df['Label'], cmap='viridis')\n",
    "axes[1].set_xlabel(\"variable 1\")\n",
    "axes[1].set_ylabel(\"variable 2\")\n",
    "plt.show()"
   ]
  },
  {
   "cell_type": "code",
   "execution_count": 108,
   "metadata": {},
   "outputs": [],
   "source": [
    "kmeans = KMeans(n_clusters=len(final_df['Label'].unique()), random_state=0, init='k-means++').fit(X_embedded)\n",
    "kmeans_results = kmeans.labels_"
   ]
  },
  {
   "cell_type": "code",
   "execution_count": 109,
   "metadata": {},
   "outputs": [
    {
     "name": "stdout",
     "output_type": "stream",
     "text": [
      "Silhouette Score: -0.036349671816071995\n",
      "Calinski Harabasz Score: 145.18465331283468\n",
      "Davies Bouldin Score: 4.086854850660862\n",
      "Adjusted Rand Index: 0.07773463814443561\n"
     ]
    }
   ],
   "source": [
    "print(f\"Silhouette Score: {silhouette_score(X, kmeans_results, metric='euclidean')}\")\n",
    "print(f\"Calinski Harabasz Score: {calinski_harabasz_score(X, kmeans_results)}\")\n",
    "print(f\"Davies Bouldin Score: {davies_bouldin_score(X, kmeans_results)}\")\n",
    "print(f\"Adjusted Rand Index: {adjusted_rand_score(final_df['Label'] , kmeans_results)}\")\n"
   ]
  },
  {
   "cell_type": "markdown",
   "metadata": {},
   "source": [
    "## Clustering Different Items (based on sub-category)"
   ]
  },
  {
   "cell_type": "markdown",
   "metadata": {},
   "source": [
    "### K Means Clustering (K=3)"
   ]
  },
  {
   "cell_type": "code",
   "execution_count": 155,
   "metadata": {},
   "outputs": [
    {
     "name": "stdout",
     "output_type": "stream",
     "text": [
      "Number of unique labels:  3\n"
     ]
    }
   ],
   "source": [
    "print(\"Number of unique labels: \", len(final_df2['Label'].unique()))"
   ]
  },
  {
   "cell_type": "code",
   "execution_count": 156,
   "metadata": {},
   "outputs": [],
   "source": [
    "X = final_df2.iloc[:, :-1]\n",
    "kmeans = KMeans(n_clusters=len(final_df2['Label'].unique()), random_state=0, init='k-means++').fit(X)\n",
    "kmeans_results = kmeans.labels_"
   ]
  },
  {
   "cell_type": "code",
   "execution_count": 157,
   "metadata": {},
   "outputs": [
    {
     "name": "stdout",
     "output_type": "stream",
     "text": [
      "Silhouette Score: 0.1264376331046648\n",
      "Calinski Harabasz Score: 1.694547273007476\n",
      "Davies Bouldin Score: 1.823416531490898\n",
      "Adjusted Rand Index: -0.09863945578231292\n"
     ]
    }
   ],
   "source": [
    "print(f\"Silhouette Score: {silhouette_score(X, kmeans_results, metric='euclidean')}\")\n",
    "print(f\"Calinski Harabasz Score: {calinski_harabasz_score(X, kmeans_results)}\")\n",
    "print(f\"Davies Bouldin Score: {davies_bouldin_score(X, kmeans_results)}\")\n",
    "print(f\"Adjusted Rand Index: {adjusted_rand_score(final_df2['Label'] , kmeans_results)}\")"
   ]
  },
  {
   "cell_type": "markdown",
   "metadata": {},
   "source": [
    "#### t-SNE"
   ]
  },
  {
   "cell_type": "code",
   "execution_count": 158,
   "metadata": {},
   "outputs": [
    {
     "data": {
      "text/plain": [
       "(17, 2)"
      ]
     },
     "execution_count": 158,
     "metadata": {},
     "output_type": "execute_result"
    }
   ],
   "source": [
    "X_embedded = TSNE(n_components=2, init='pca', perplexity=4).fit_transform(X)\n",
    "X_embedded = pd.DataFrame(X_embedded)\n",
    "X_embedded.shape"
   ]
  },
  {
   "cell_type": "code",
   "execution_count": 159,
   "metadata": {},
   "outputs": [
    {
     "data": {
      "image/png": "[encoded data removed]",
      "text/plain": [
       "<Figure size 1000x400 with 2 Axes>"
      ]
     },
     "metadata": {},
     "output_type": "display_data"
    }
   ],
   "source": [
    "# t-SNE does not result in clear clusters too\n",
    "\n",
    "fig, axes = plt.subplots(1, 2, figsize=(10, 4))\n",
    "axes[0].scatter(x=X_embedded.iloc[:, 0], y=X_embedded.iloc[:, 1], cmap='viridis')\n",
    "axes[0].set_xlabel(\"variable 1\")\n",
    "axes[0].set_ylabel(\"variable 2\")\n",
    "axes[1].scatter(x=X_embedded.iloc[:, 0], y=X_embedded.iloc[:, 1], c=final_df2['Label'], cmap='viridis')\n",
    "axes[1].set_xlabel(\"variable 1\")\n",
    "axes[1].set_ylabel(\"variable 2\")\n",
    "plt.show()"
   ]
  },
  {
   "cell_type": "code",
   "execution_count": 160,
   "metadata": {},
   "outputs": [],
   "source": [
    "kmeans = KMeans(n_clusters=len(final_df2['Label'].unique()), random_state=0, init='k-means++').fit(X_embedded)\n",
    "kmeans_results = kmeans.labels_"
   ]
  },
  {
   "cell_type": "code",
   "execution_count": 161,
   "metadata": {},
   "outputs": [
    {
     "name": "stdout",
     "output_type": "stream",
     "text": [
      "Silhouette Score: -0.04661026612912735\n",
      "Calinski Harabasz Score: 0.9866271289467418\n",
      "Davies Bouldin Score: 3.2367727199266034\n",
      "Adjusted Rand Index: -0.003937007874015748\n"
     ]
    }
   ],
   "source": [
    "print(f\"Silhouette Score: {silhouette_score(X, kmeans_results, metric='euclidean')}\")\n",
    "print(f\"Calinski Harabasz Score: {calinski_harabasz_score(X, kmeans_results)}\")\n",
    "print(f\"Davies Bouldin Score: {davies_bouldin_score(X, kmeans_results)}\")\n",
    "print(f\"Adjusted Rand Index: {adjusted_rand_score(final_df2['Label'] , kmeans_results)}\")"
   ]
  },
  {
   "cell_type": "code",
   "execution_count": null,
   "metadata": {},
   "outputs": [],
   "source": []
  }
 ],
 "metadata": {
  "kernelspec": {
   "display_name": ".venv",
   "language": "python",
   "name": "python3"
  },
  "language_info": {
   "codemirror_mode": {
    "name": "ipython",
    "version": 3
   },
   "file_extension": ".py",
   "mimetype": "text/x-python",
   "name": "python",
   "nbconvert_exporter": "python",
   "pygments_lexer": "ipython3",
   "version": "3.9.2"
  }
 },
 "nbformat": 4,
 "nbformat_minor": 2
}
